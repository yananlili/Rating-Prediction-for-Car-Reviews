{
 "cells": [
  {
   "cell_type": "code",
   "execution_count": 1,
   "metadata": {},
   "outputs": [],
   "source": [
    "import requests\n",
    "import time\n",
    "from bs4 import BeautifulSoup\n",
    "import json\n",
    "import csv\n",
    "from selenium import webdriver\n",
    "from selenium.webdriver.common.keys import Keys\n",
    "from selenium.webdriver.common.by import By"
   ]
  },
  {
   "cell_type": "code",
   "execution_count": 2,
   "metadata": {},
   "outputs": [],
   "source": [
    "# get the website\n",
    "def get_html(url):\n",
    "    try:\n",
    "        r = requests.get(url, timeout = 30)\n",
    "        r.raise_for_status()\n",
    "       # r.endcodding = r.apparent_endconding \n",
    "        #r.encoding='utf-8'\n",
    "        return r.text\n",
    "    except:\n",
    "        return \" ERROR \"\n",
    "        "
   ]
  },
  {
   "cell_type": "code",
   "execution_count": 3,
   "metadata": {},
   "outputs": [],
   "source": [
    "#driver = webdriver.Chrome('/Users/liyanan/Desktop/chromedriver') \n",
    "def get_html(url):\n",
    "    browser = webdriver.Safari()\n",
    "\n",
    "#url = 'https://www.truecar.com/hyundai/elantra/reviews/?returnUrl=%2Fprices-new%2Fhyundai%2Felantra-pricing%2F%3Fzipcode%3D27514'\n",
    "\n",
    "    browser.get(url)\n",
    "    browser.implicitly_wait(3)\n",
    "\n",
    "    next_btn = browser.find_elements_by_xpath('//span[@class=\"read-more-link-text\"]')\n",
    "\n",
    "    for i in range(0,len(next_btn)):\n",
    "        next_btn[i].click()\n",
    "    return browser.page_source\n",
    "\n",
    "\n"
   ]
  },
  {
   "cell_type": "code",
   "execution_count": 4,
   "metadata": {},
   "outputs": [],
   "source": [
    "#print(len(next_btn))"
   ]
  },
  {
   "cell_type": "code",
   "execution_count": 5,
   "metadata": {},
   "outputs": [],
   "source": [
    "#page_source = browser.page_source\n",
    "def get_nextpage(url):\n",
    "    page_source = get_html(url)\n",
    "    soup = BeautifulSoup(page_source,'lxml')\n",
    "    \n",
    "    pagelist = soup.find_all('a', attrs = {'class': 'page-link'})\n",
    "    print(pagelist[1].text)\n",
    "    return soup,pagelist[1]['href']"
   ]
  },
  {
   "cell_type": "code",
   "execution_count": 6,
   "metadata": {},
   "outputs": [],
   "source": [
    "# clear content use soup\n",
    "def get_content(url):\n",
    "    \n",
    "    #page_source = get_html(url)\n",
    "    comments = []\n",
    "\n",
    "    #soup = BeautifulSoup(page_source,'lxml')\n",
    "    soup = get_nextpage(url)[0]\n",
    "    \n",
    "    #print(soup.find_all(\"div\", \"align-items-end wrappable-2 padding-1 justify-content-start categoryRatingsContainer_w3m4lu\"))\n",
    "\n",
    "    \n",
    "    \n",
    "    litags = soup.find_all('div', attrs = {'class': 'border-bottom'})\n",
    "    \n",
    "    \n",
    "    for li in litags:\n",
    "        comment = {}\n",
    "\n",
    "        try:\n",
    "           # print('testtesttest3')\n",
    "            comment['date'] = li.find('p',attrs = {'class': 'font-size-1 font-size-md-2 reviewDate_e5cq67'}).text.strip()\n",
    "            \n",
    "           # print(comment['date'])\n",
    "           # if li.find('span', attrs = {'class': 'd-inline-block'})['itemprop'] == 'author':\n",
    "        \n",
    "            comment['author'] = li.find('span', attrs = {'itemprop': 'author'}).text.strip()\n",
    "           # print(comment['author'])\n",
    "            comment['vehicle'] = li.find('span', attrs = {'itemprop': 'itemReviewed'}).text.strip()\n",
    "            #print(comment['vehicle'] )\n",
    "            \n",
    "            #overall rate\n",
    "            textrate = li.find('div', attrs = {'class': 'star-rating d-inline-block d-inline-block'})['data-qa']\n",
    "            if textrate == 'review-star-rating-5':\n",
    "                comment['overallrate'] = 5\n",
    "            elif textrate == 'review-star-rating-4':\n",
    "                comment['overallrate'] = 4\n",
    "            elif textrate == 'review-star-rating-3':\n",
    "                comment['overallrate'] = 3\n",
    "            elif textrate == 'review-star-rating-2':\n",
    "                comment['overallrate'] = 2\n",
    "            elif textrate == 'review-star-rating-1':\n",
    "                comment['overallrate'] = 1\n",
    "            else:\n",
    "                comment['overallrate'] = 0\n",
    "                \n",
    "            #Comment text\n",
    "            textlist = li.find_all('div', attrs = {'data-qa': 'Review-review-part'})\n",
    "            for texts in textlist:\n",
    "                if comment.get('text', None) == None:\n",
    "                    comment['text'] = texts.text.strip()\n",
    "                else:\n",
    "                    comment['text'] = comment['text'] + texts.text.strip()\n",
    "            \n",
    "           \n",
    "            #Apect rate\n",
    "            aspectlist = li.find_all('div', attrs = {'data-qa': 'review-category-rating'})\n",
    "            categoryrates = {}\n",
    "            for aspects in aspectlist:\n",
    "                fullstar = len(aspects.find_all('svg', attrs = {'name': 'star-full'}))\n",
    "\n",
    "                halfstar = len(aspects.find_all('svg', attrs = {'name': 'star-half'}))\n",
    "   \n",
    "                categoryrates[aspects.text] = fullstar + halfstar * 0.5\n",
    "            \n",
    "            comment['total_category'] = len(categoryrates)\n",
    "            comment['categoryrates'] = categoryrates\n",
    "                 \n",
    "            #print(comment['aspect'])\n",
    "            \n",
    "            comments.append(comment)\n",
    "        except:\n",
    "            print(\"ERROR!!!!!!!!!!!\")\n",
    "            \n",
    "    \n",
    "    return (comments)"
   ]
  },
  {
   "cell_type": "code",
   "execution_count": 7,
   "metadata": {},
   "outputs": [],
   "source": [
    "#def out2file(comments):\n",
    " #   with open ('truecar.txt', 'a+') as f:\n",
    "       # f.write('testesttestprint')\n",
    "        #print('where are you')\n",
    "  #      for comment in comments:\n",
    "           # print(comment)\n",
    "   #         f.write('Author：{} \\t Time：{} \\n'.format(\n",
    "    #            comment['author'], comment['date']))\n",
    "    \n",
    "    #print('ONE URL DONE!')"
   ]
  },
  {
   "cell_type": "code",
   "execution_count": 8,
   "metadata": {},
   "outputs": [],
   "source": [
    "def out2file(comments):\n",
    "    #with open('text1.json', 'w') as f:\n",
    "     #   json.dump(comments, f)\n",
    "    with open('fileName2.csv', 'a+') as f:\n",
    "        writer = csv.writer(f)\n",
    "        count = 0\n",
    "        if f.tell() == 0:\n",
    "            writer.writerow([\"author\", \"date\", 'vehicle',\"overall_rate\",'text','total_category','category_rates'])\n",
    "        for comment in comments:\n",
    "            writer.writerow([str(comment['author']), str(comment['date']),str(comment['vehicle']), comment['overallrate'],str(comment['text']),\n",
    "                             comment['total_category'],comment['categoryrates']\n",
    "                             ])\n",
    "            count += 1\n",
    "    \n",
    "        \n",
    "        \n"
   ]
  },
  {
   "cell_type": "code",
   "execution_count": 36,
   "metadata": {},
   "outputs": [],
   "source": [
    "#main \n",
    "def main(url):\n",
    "    url_list = [url]\n",
    "    url_list.append('https://www.truecar.com' + get_nextpage(url)[1])\n",
    "    \n",
    "    #collect all url you'll need \n",
    "    #for i in range(0,deep):\n",
    "    \n",
    "    print('how many')\n",
    "    print(url_list)\n",
    "    #url_list.append(base_url + '&pn=' + str(50 * i))\n",
    "    print(\"Get all url! Can start to work now!\")\n",
    "    \n",
    "    for url in url_list:\n",
    "        content = get_content(url) \n",
    "        out2file(content)\n",
    "    print('ALL URLS DONE!!!!!!!!!!!!!!!!')"
   ]
  },
  {
   "cell_type": "code",
   "execution_count": 34,
   "metadata": {},
   "outputs": [],
   "source": [
    "#main \n",
    "def main(url):\n",
    " \n",
    "\n",
    "    print(\"Get all url! Can start to work now!\")\n",
    "    content = get_content(url) \n",
    "    out2file(content)\n",
    "    print('ALL URLS DONE!!!!!!!!!!!!!!!!')"
   ]
  },
  {
   "cell_type": "code",
   "execution_count": 39,
   "metadata": {},
   "outputs": [
    {
     "name": "stdout",
     "output_type": "stream",
     "text": [
      "2\n",
      "how many\n",
      "['https://www.truecar.com/infiniti/q50/reviews/?returnUrl=%2Fprices-new%2Finfiniti%2Fq50-pricing%2F%3Fzipcode%3D27514', 'https://www.truecar.com/infiniti/q50/reviews/?page=2&per_page=20&returnUrl=%2Fprices-new%2Finfiniti%2Fq50-pricing%2F%3Fzipcode%3D27514']\n",
      "Get all url! Can start to work now!\n",
      "2\n",
      "ERROR!!!!!!!!!!!\n",
      "ERROR!!!!!!!!!!!\n",
      "\n",
      "ERROR!!!!!!!!!!!\n",
      "ERROR!!!!!!!!!!!\n",
      "ALL URLS DONE!!!!!!!!!!!!!!!!\n"
     ]
    }
   ],
   "source": [
    "#run\n",
    "main ('https://www.truecar.com/infiniti/q50/reviews/?returnUrl=%2Fprices-new%2Finfiniti%2Fq50-pricing%2F%3Fzipcode%3D27514')\n",
    "\n",
    "\n"
   ]
  },
  {
   "cell_type": "code",
   "execution_count": null,
   "metadata": {},
   "outputs": [],
   "source": []
  },
  {
   "cell_type": "code",
   "execution_count": null,
   "metadata": {},
   "outputs": [],
   "source": []
  },
  {
   "cell_type": "code",
   "execution_count": 11,
   "metadata": {},
   "outputs": [],
   "source": [
    " "
   ]
  },
  {
   "cell_type": "code",
   "execution_count": 15,
   "metadata": {},
   "outputs": [],
   "source": []
  },
  {
   "cell_type": "code",
   "execution_count": 12,
   "metadata": {},
   "outputs": [
    {
     "data": {
      "text/plain": [
       "<title>2020 Hyundai Elantra Prices, Reviews &amp; Incentives | TrueCar</title>"
      ]
     },
     "execution_count": 12,
     "metadata": {},
     "output_type": "execute_result"
    }
   ],
   "source": []
  },
  {
   "cell_type": "code",
   "execution_count": 14,
   "metadata": {},
   "outputs": [],
   "source": []
  },
  {
   "cell_type": "code",
   "execution_count": null,
   "metadata": {},
   "outputs": [],
   "source": []
  }
 ],
 "metadata": {
  "kernelspec": {
   "display_name": "Python 3",
   "language": "python",
   "name": "python3"
  },
  "language_info": {
   "codemirror_mode": {
    "name": "ipython",
    "version": 3
   },
   "file_extension": ".py",
   "mimetype": "text/x-python",
   "name": "python",
   "nbconvert_exporter": "python",
   "pygments_lexer": "ipython3",
   "version": "3.7.2"
  }
 },
 "nbformat": 4,
 "nbformat_minor": 2
}
